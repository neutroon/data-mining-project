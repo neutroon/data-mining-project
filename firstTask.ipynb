{
 "cells": [
  {
   "cell_type": "code",
   "execution_count": 10,
   "id": "b3236d7b",
   "metadata": {},
   "outputs": [
    {
     "name": "stdout",
     "output_type": "stream",
     "text": [
      "Collecting sklearn\n",
      "  Using cached sklearn-0.0.post12.tar.gz (2.6 kB)\n",
      "  Installing build dependencies: started\n",
      "  Installing build dependencies: finished with status 'done'\n",
      "  Getting requirements to build wheel: started\n",
      "  Getting requirements to build wheel: finished with status 'error'\n",
      "Note: you may need to restart the kernel to use updated packages.\n"
     ]
    },
    {
     "name": "stderr",
     "output_type": "stream",
     "text": [
      "  error: subprocess-exited-with-error\n",
      "  \n",
      "  × Getting requirements to build wheel did not run successfully.\n",
      "  │ exit code: 1\n",
      "  ╰─> [15 lines of output]\n",
      "      The 'sklearn' PyPI package is deprecated, use 'scikit-learn'\n",
      "      rather than 'sklearn' for pip commands.\n",
      "      \n",
      "      Here is how to fix this error in the main use cases:\n",
      "      - use 'pip install scikit-learn' rather than 'pip install sklearn'\n",
      "      - replace 'sklearn' by 'scikit-learn' in your pip requirements files\n",
      "        (requirements.txt, setup.py, setup.cfg, Pipfile, etc ...)\n",
      "      - if the 'sklearn' package is used by one of your dependencies,\n",
      "        it would be great if you take some time to track which package uses\n",
      "        'sklearn' instead of 'scikit-learn' and report it to their issue tracker\n",
      "      - as a last resort, set the environment variable\n",
      "        SKLEARN_ALLOW_DEPRECATED_SKLEARN_PACKAGE_INSTALL=True to avoid this error\n",
      "      \n",
      "      More information is available at\n",
      "      https://github.com/scikit-learn/sklearn-pypi-package\n",
      "      [end of output]\n",
      "  \n",
      "  note: This error originates from a subprocess, and is likely not a problem with pip.\n",
      "error: subprocess-exited-with-error\n",
      "\n",
      "× Getting requirements to build wheel did not run successfully.\n",
      "│ exit code: 1\n",
      "╰─> See above for output.\n",
      "\n",
      "note: This error originates from a subprocess, and is likely not a problem with pip.\n"
     ]
    }
   ],
   "source": [
    "%pip install sklearn\n"
   ]
  },
  {
   "cell_type": "code",
   "execution_count": null,
   "id": "1fe5ca75",
   "metadata": {},
   "outputs": [],
   "source": [
    "import pandas as pd #used for data manipulation and analysis. It provides data structures like DataFrames.\n",
    "import numpy as np # numerical computations in Python. It provides support for arrays, matrices, and mathematical functions.\n",
    "import matplotlib.pyplot as plt #used for creating static, interactive, and animated visualizations.\n",
    "import seaborn as sns # a statistical data visualization library built on Matplotlib. It provides a high-level interface for drawing attractive graphs.\n",
    "#scikit-learn library, which is a popular tool for machine learning in Python:\n",
    "from sklearn.model_selection import train_test_split #Used to split datasets into training and testing subsets for model evaluation.\n",
    "from sklearn.preprocessing import StandardScaler, OneHotEncoder # A preprocessing tool to standardize features by removing the mean and scaling to unit variance.\n",
    "#Used to convert categorical variables into a one-hot encoded numeric array.\n",
    "from sklearn.impute import SimpleImputer #Used to handle missing values by imputing them (e.g., replacing NaN with mean/median/mode).\n",
    "from sklearn.compose import ColumnTransformer #Applies different transformations to different columns in a dataset (e.g., scaling numerical columns and one-hot encoding categorical columns).\n",
    "from sklearn.pipeline import Pipeline #Chains multiple data processing steps (e.g., imputation, scaling, encoding) into a single object for streamlined workflow."
   ]
  },
  {
   "cell_type": "code",
   "execution_count": null,
   "id": "cb438db0",
   "metadata": {},
   "outputs": [],
   "source": [
    "pd.set_option('display.max_columns', None)\n",
    "pd.set_option('display.width', 1000)"
   ]
  },
  {
   "cell_type": "code",
   "execution_count": null,
   "id": "d8458b1a",
   "metadata": {},
   "outputs": [],
   "source": [
    "cost_df = pd.read_csv('hepatitis.cost', sep=r'\\s+')\n",
    "delay_df = pd.read_csv('hepatitis.delay', sep=r'\\s+')\n",
    "expense_df = pd.read_csv('hepatitis.expense', sep=r'\\s+')\n",
    "group_df = pd.read_csv('hepatitis.group', sep=r'\\s+')"
   ]
  },
  {
   "cell_type": "code",
   "execution_count": null,
   "id": "6826e0c3",
   "metadata": {},
   "outputs": [],
   "source": [
    "file_path = r\"D:\\ECU\\Data-mining\\Project\\Lung Cancer.csv\"\n",
    "column_names = [\"id\",\"age\",\"gender\",\"country\",\"diagnosis_date\",\"cancer_stage\",\n",
    "\"family_history\",\"smoking_status\",\"bmi\",\"cholesterol_level\",\"hypertension\",\"asthma\",\n",
    "\"cirrhosis\",\"other_cancer\",\"treatment_type\",\"end_treatment_date\",\"survived\"]"
   ]
  }
 ],
 "metadata": {
  "kernelspec": {
   "display_name": "Python 3",
   "language": "python",
   "name": "python3"
  },
  "language_info": {
   "codemirror_mode": {
    "name": "ipython",
    "version": 3
   },
   "file_extension": ".py",
   "mimetype": "text/x-python",
   "name": "python",
   "nbconvert_exporter": "python",
   "pygments_lexer": "ipython3",
   "version": "3.13.5"
  }
 },
 "nbformat": 4,
 "nbformat_minor": 5
}
