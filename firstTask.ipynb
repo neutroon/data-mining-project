{
 "cells": [
  {
   "cell_type": "code",
   "execution_count": null,
   "id": "b3236d7b",
   "metadata": {},
   "outputs": [
    {
     "name": "stdout",
     "output_type": "stream",
     "text": [
      "Requirement already satisfied: scikit-learn in c:\\users\\asus\\appdata\\local\\programs\\python\\python313\\lib\\site-packages (1.7.1)\n",
      "Requirement already satisfied: numpy>=1.22.0 in c:\\users\\asus\\appdata\\local\\programs\\python\\python313\\lib\\site-packages (from scikit-learn) (2.3.2)\n",
      "Requirement already satisfied: scipy>=1.8.0 in c:\\users\\asus\\appdata\\local\\programs\\python\\python313\\lib\\site-packages (from scikit-learn) (1.16.0)\n",
      "Requirement already satisfied: joblib>=1.2.0 in c:\\users\\asus\\appdata\\local\\programs\\python\\python313\\lib\\site-packages (from scikit-learn) (1.5.1)\n",
      "Requirement already satisfied: threadpoolctl>=3.1.0 in c:\\users\\asus\\appdata\\local\\programs\\python\\python313\\lib\\site-packages (from scikit-learn) (3.6.0)\n",
      "Note: you may need to restart the kernel to use updated packages.\n"
     ]
    }
   ],
   "source": [
    "%pip install scikit-learn\n",
    "# aaaaaaaaaaaaaaaaaaaaaaaaaaaaaaaaaaaaaaaaaaaa"
   ]
  },
  {
   "cell_type": "code",
   "execution_count": 60,
   "id": "1fe5ca75",
   "metadata": {},
   "outputs": [],
   "source": [
    "import pandas as pd #used for data manipulation and analysis. It provides data structures like DataFrames.\n",
    "import numpy as np # numerical computations in Python. It provides support for arrays, matrices, and mathematical functions.\n",
    "import matplotlib.pyplot as plt #used for creating static, interactive, and animated visualizations.\n",
    "import seaborn as sns # a statistical data visualization library built on Matplotlib. It provides a high-level interface for drawing attractive graphs.\n",
    "# scikit-learn library, which is a popular tool for machine learning in Python:\n",
    "from sklearn.model_selection import train_test_split #Used to split datasets into training and testing subsets for model evaluation.\n",
    "from sklearn.preprocessing import StandardScaler, OneHotEncoder # A preprocessing tool to standardize features by removing the mean and scaling to unit variance.\n",
    "#Used to convert categorical variables into a one-hot encoded numeric array.\n",
    "from sklearn.impute import SimpleImputer #Used to handle missing values by imputing them (e.g., replacing NaN with mean/median/mode).\n",
    "from sklearn.compose import ColumnTransformer #Applies different transformations to different columns in a dataset (e.g., scaling numerical columns and one-hot encoding categorical columns).\n",
    "from sklearn.pipeline import Pipeline #Chains multiple data processing steps (e.g., imputation, scaling, encoding) into a single object for streamlined workflow."
   ]
  },
  {
   "cell_type": "code",
   "execution_count": null,
   "id": "2c62db58",
   "metadata": {},
   "outputs": [],
   "source": []
  },
  {
   "cell_type": "code",
   "execution_count": 61,
   "id": "cb438db0",
   "metadata": {},
   "outputs": [],
   "source": [
    "# pd.set_option('display.max_columns', None)\n",
    "# pd.set_option('display.width', 1000)"
   ]
  },
  {
   "cell_type": "code",
   "execution_count": 62,
   "id": "d8458b1a",
   "metadata": {},
   "outputs": [],
   "source": [
    "# data_set = pd.read_csv('Lung Cancer.csv')\n",
    "# age = data_set[\"age\"]\n",
    "# delay_df = pd.read_csv('hepatitis.delay', sep=r'\\s+')\n",
    "# expense_df = pd.read_csv('hepatitis.expense', sep=r'\\s+')\n",
    "# group_df = pd.read_csv('hepatitis.group', sep=r'\\s+')"
   ]
  },
  {
   "cell_type": "code",
   "execution_count": null,
   "id": "6826e0c3",
   "metadata": {},
   "outputs": [],
   "source": [
    "file_path = r\"D:\\ECU\\Data-mining\\Project\\Lung Cancer.csv\""
   ]
  },
  {
   "cell_type": "code",
   "execution_count": null,
   "id": "d3414b36",
   "metadata": {},
   "outputs": [],
   "source": [
    "df = pd.read_csv(file_path, na_values='?')\n"
   ]
  },
  {
   "cell_type": "code",
   "execution_count": 71,
   "id": "9d2e3974",
   "metadata": {},
   "outputs": [
    {
     "name": "stdout",
     "output_type": "stream",
     "text": [
      "First 5 rows of the dataset:\n",
      "   id   age  gender      country diagnosis_date cancer_stage family_history  smoking_status   bmi  cholesterol_level  hypertension  asthma  cirrhosis  other_cancer treatment_type end_treatment_date  survived\n",
      "0   1  64.0    Male       Sweden     2016-04-05      Stage I            Yes  Passive Smoker  29.4                199             0       0          1             0   Chemotherapy         2017-09-10         0\n",
      "1   2  50.0  Female  Netherlands     2023-04-20    Stage III            Yes  Passive Smoker  41.2                280             1       1          0             0        Surgery         2024-06-17         1\n",
      "2   3  65.0  Female      Hungary     2023-04-05    Stage III            Yes   Former Smoker  44.0                268             1       1          0             0       Combined         2024-04-09         0\n",
      "3   4  51.0  Female      Belgium     2016-02-05      Stage I             No  Passive Smoker  43.0                241             1       1          0             0   Chemotherapy         2017-04-23         0\n",
      "4   5  37.0    Male   Luxembourg     2023-11-29      Stage I             No  Passive Smoker  19.7                178             0       0          0             0       Combined         2025-01-08         0\n"
     ]
    }
   ],
   "source": [
    "print(\"First 5 rows of the dataset:\")\n",
    "print(df.head())"
   ]
  },
  {
   "cell_type": "code",
   "execution_count": 72,
   "id": "199a5a09",
   "metadata": {},
   "outputs": [
    {
     "name": "stdout",
     "output_type": "stream",
     "text": [
      "id                    0\n",
      "age                   0\n",
      "gender                0\n",
      "country               0\n",
      "diagnosis_date        0\n",
      "cancer_stage          0\n",
      "family_history        0\n",
      "smoking_status        0\n",
      "bmi                   0\n",
      "cholesterol_level     0\n",
      "hypertension          0\n",
      "asthma                0\n",
      "cirrhosis             0\n",
      "other_cancer          0\n",
      "treatment_type        0\n",
      "end_treatment_date    0\n",
      "survived              0\n",
      "dtype: int64\n"
     ]
    }
   ],
   "source": [
    "print(df.isnull().sum())\n"
   ]
  },
  {
   "cell_type": "code",
   "execution_count": 74,
   "id": "97b9f62c",
   "metadata": {},
   "outputs": [
    {
     "name": "stdout",
     "output_type": "stream",
     "text": [
      "\n",
      "Column: age\n",
      "Number of outliers: 3895\n",
      "Lower bound: 27.00, Upper bound: 83.00\n",
      "      age\n",
      "23   21.0\n",
      "477  85.0\n",
      "576  87.0\n",
      "755  25.0\n",
      "760  90.0\n",
      "\n",
      "Column: hypertension\n",
      "Number of outliers: 222479\n",
      "Lower bound: 1.00, Upper bound: 1.00\n",
      "    hypertension\n",
      "0              0\n",
      "4              0\n",
      "6              0\n",
      "8              0\n",
      "11             0\n",
      "\n",
      "Column: cirrhosis\n",
      "Number of outliers: 201101\n",
      "Lower bound: 0.00, Upper bound: 0.00\n",
      "    cirrhosis\n",
      "0           1\n",
      "13          1\n",
      "15          1\n",
      "20          1\n",
      "22          1\n",
      "\n",
      "Column: other_cancer\n",
      "Number of outliers: 78460\n",
      "Lower bound: 0.00, Upper bound: 0.00\n",
      "    other_cancer\n",
      "9              1\n",
      "18             1\n",
      "23             1\n",
      "25             1\n",
      "41             1\n",
      "\n",
      "Column: survived\n",
      "Number of outliers: 196004\n",
      "Lower bound: 0.00, Upper bound: 0.00\n",
      "    survived\n",
      "1          1\n",
      "6          1\n",
      "10         1\n",
      "21         1\n",
      "27         1\n"
     ]
    }
   ],
   "source": [
    "# def detect_outliers_iqr(df, column):\n",
    "#     Q1 = df[column].quantile(0.25)\n",
    "#     Q3 = df[column].quantile(0.75)\n",
    "#     IQR = Q3 - Q1\n",
    "#     lower_bound = Q1 - 1.5 * IQR\n",
    "#     upper_bound = Q3 + 1.5 * IQR\n",
    "#     outliers = df[(df[column] < lower_bound) | (df[column] > upper_bound)]\n",
    "#     return outliers\n",
    "\n",
    "# # Example: detect outliers in 'bmi'\n",
    "# bmi_outliers = detect_outliers_iqr(df, 'bmi')\n",
    "# print(\"BMI Outliers:\")\n",
    "# print(bmi_outliers[['id', 'bmi']])\n",
    "\n",
    "\n",
    "def detect_outliers_iqr(df):\n",
    "    numeric_cols = df.select_dtypes(include='number').columns\n",
    "    outlier_summary = {}\n",
    "\n",
    "    for col in numeric_cols:\n",
    "        Q1 = df[col].quantile(0.25)\n",
    "        Q3 = df[col].quantile(0.75)\n",
    "        IQR = Q3 - Q1\n",
    "        lower_bound = Q1 - 1.5 * IQR\n",
    "        upper_bound = Q3 + 1.5 * IQR\n",
    "\n",
    "        outliers = df[(df[col] < lower_bound) | (df[col] > upper_bound)]\n",
    "        outlier_count = outliers.shape[0]\n",
    "\n",
    "        if outlier_count > 0:\n",
    "            outlier_summary[col] = {\n",
    "                'count': outlier_count,\n",
    "                'lower_bound': lower_bound,\n",
    "                'upper_bound': upper_bound,\n",
    "                'outliers': outliers[[col]]\n",
    "            }\n",
    "\n",
    "    return outlier_summary\n",
    "\n",
    "# Run detection\n",
    "outliers_by_column = detect_outliers_iqr(df)\n",
    "\n",
    "# Print summary\n",
    "for col, info in outliers_by_column.items():\n",
    "    print(f\"\\nColumn: {col}\")\n",
    "    print(f\"Number of outliers: {info['count']}\")\n",
    "    print(f\"Lower bound: {info['lower_bound']:.2f}, Upper bound: {info['upper_bound']:.2f}\")\n",
    "    print(info['outliers'].head())\n"
   ]
  },
  {
   "cell_type": "markdown",
   "id": "f1c0b0ef",
   "metadata": {},
   "source": [
    "✅ Strategy 1: Remove Outliers"
   ]
  },
  {
   "cell_type": "code",
   "execution_count": 75,
   "id": "4eedc331",
   "metadata": {},
   "outputs": [],
   "source": [
    "def remove_outliers(df):\n",
    "    numeric_cols = df.select_dtypes(include='number').columns\n",
    "    for col in numeric_cols:\n",
    "        Q1 = df[col].quantile(0.25)\n",
    "        Q3 = df[col].quantile(0.75)\n",
    "        IQR = Q3 - Q1\n",
    "        lower = Q1 - 1.5 * IQR\n",
    "        upper = Q3 + 1.5 * IQR\n",
    "        df = df[(df[col] >= lower) & (df[col] <= upper)]\n",
    "    return df\n",
    "\n",
    "df_no_outliers = remove_outliers(df.copy())\n"
   ]
  },
  {
   "cell_type": "markdown",
   "id": "ca6f588e",
   "metadata": {},
   "source": [
    "✅ Strategy 2: Cap (Winsorize) Outliers\n"
   ]
  },
  {
   "cell_type": "code",
   "execution_count": 76,
   "id": "3b889674",
   "metadata": {},
   "outputs": [],
   "source": [
    "def cap_outliers(df):\n",
    "    numeric_cols = df.select_dtypes(include='number').columns\n",
    "    for col in numeric_cols:\n",
    "        Q1 = df[col].quantile(0.25)\n",
    "        Q3 = df[col].quantile(0.75)\n",
    "        IQR = Q3 - Q1\n",
    "        lower = Q1 - 1.5 * IQR\n",
    "        upper = Q3 + 1.5 * IQR\n",
    "        df[col] = df[col].clip(lower, upper)\n",
    "    return df\n",
    "\n",
    "df_capped = cap_outliers(df.copy())\n"
   ]
  },
  {
   "cell_type": "code",
   "execution_count": 78,
   "id": "4af1ad8e",
   "metadata": {},
   "outputs": [],
   "source": [
    "numeric_cols = df.select_dtypes(include='number').columns\n"
   ]
  },
  {
   "cell_type": "code",
   "execution_count": 80,
   "id": "1bee719a",
   "metadata": {},
   "outputs": [],
   "source": [
    "from sklearn.preprocessing import MinMaxScaler\n",
    "\n",
    "scaler = MinMaxScaler()\n",
    "df_normalized = df.copy()\n",
    "df_normalized[numeric_cols] = scaler.fit_transform(df[numeric_cols])\n"
   ]
  },
  {
   "cell_type": "code",
   "execution_count": 81,
   "id": "f89d5268",
   "metadata": {},
   "outputs": [
    {
     "name": "stdout",
     "output_type": "stream",
     "text": [
      "                  id            age            bmi  cholesterol_level   hypertension         asthma      cirrhosis   other_cancer       survived\n",
      "count  890000.000000  890000.000000  890000.000000      890000.000000  890000.000000  890000.000000  890000.000000  890000.000000  890000.000000\n",
      "mean        0.500000       0.510070       0.499799           0.557559       0.750024       0.469740       0.225956       0.088157       0.220229\n",
      "std         0.288676       0.099945       0.288570           0.289549       0.432999       0.499084       0.418211       0.283524       0.414401\n",
      "min         0.000000       0.000000       0.000000           0.000000       0.000000       0.000000       0.000000       0.000000       0.000000\n",
      "25%         0.250000       0.440000       0.251724           0.306667       1.000000       0.000000       0.000000       0.000000       0.000000\n",
      "50%         0.500000       0.510000       0.500000           0.613333       1.000000       0.000000       0.000000       0.000000       0.000000\n",
      "75%         0.750000       0.580000       0.748276           0.806667       1.000000       1.000000       0.000000       0.000000       0.000000\n",
      "max         1.000000       1.000000       1.000000           1.000000       1.000000       1.000000       1.000000       1.000000       1.000000\n"
     ]
    }
   ],
   "source": [
    "# print(df_standardized[numeric_cols].describe())\n",
    "print(df_normalized[numeric_cols].describe())\n"
   ]
  },
  {
   "cell_type": "code",
   "execution_count": 82,
   "id": "ddcd33c6",
   "metadata": {},
   "outputs": [],
   "source": [
    "# 2. Define your features (X) and target (y)"
   ]
  },
  {
   "cell_type": "code",
   "execution_count": 83,
   "id": "e5e72a2b",
   "metadata": {},
   "outputs": [],
   "source": [
    "X = df.drop('survived', axis=1)  # All columns except 'survived'\n",
    "y = df['survived']               # The target column\n"
   ]
  },
  {
   "cell_type": "code",
   "execution_count": 84,
   "id": "a13008bd",
   "metadata": {},
   "outputs": [],
   "source": [
    "# 3. (Optional) Encode categorical features\n",
    "X = pd.get_dummies(X, drop_first=True)\n"
   ]
  },
  {
   "cell_type": "code",
   "execution_count": 85,
   "id": "59d9571e",
   "metadata": {},
   "outputs": [],
   "source": [
    "X_train, X_test, y_train, y_test = train_test_split(\n",
    "    X, y,\n",
    "    test_size=0.2,        # 20% for testing, 80% for training\n",
    "    random_state=42,      # Ensures reproducibility\n",
    "    stratify=y            # Keeps class distribution balanced (important for classification)\n",
    ")\n"
   ]
  },
  {
   "cell_type": "code",
   "execution_count": null,
   "id": "acba03a3",
   "metadata": {},
   "outputs": [
    {
     "name": "stdout",
     "output_type": "stream",
     "text": [
      "Training set: (712000, 7888)\n",
      "Testing set: (178000, 7888)\n"
     ]
    }
   ],
   "source": [
    "print(\"Training set:\", X_train.shape)\n",
    "print(\"Testing set:\", X_test.shape)\n",
    "\n"
   ]
  },
  {
   "cell_type": "code",
   "execution_count": 89,
   "id": "3fed802f",
   "metadata": {},
   "outputs": [],
   "source": [
    "#  engineer a new column that calculates how long the patient was under treatment:\n",
    "df['diagnosis_date'] = pd.to_datetime(df['diagnosis_date'])\n",
    "df['end_treatment_date'] = pd.to_datetime(df['end_treatment_date'])\n",
    "\n",
    "df['treatment_duration_days'] = (df['end_treatment_date'] - df['diagnosis_date']).dt.days\n"
   ]
  },
  {
   "cell_type": "code",
   "execution_count": 91,
   "id": "3b962c45",
   "metadata": {},
   "outputs": [
    {
     "name": "stdout",
     "output_type": "stream",
     "text": [
      "   id diagnosis_date end_treatment_date  treatment_duration_days\n",
      "0   1     2016-04-05         2017-09-10                      523\n",
      "1   2     2023-04-20         2024-06-17                      424\n",
      "2   3     2023-04-05         2024-04-09                      370\n",
      "3   4     2016-02-05         2017-04-23                      443\n",
      "4   5     2023-11-29         2025-01-08                      406\n"
     ]
    }
   ],
   "source": [
    "print(df[['id', 'diagnosis_date', 'end_treatment_date', 'treatment_duration_days']].head())\n"
   ]
  }
 ],
 "metadata": {
  "kernelspec": {
   "display_name": "Python 3",
   "language": "python",
   "name": "python3"
  },
  "language_info": {
   "codemirror_mode": {
    "name": "ipython",
    "version": 3
   },
   "file_extension": ".py",
   "mimetype": "text/x-python",
   "name": "python",
   "nbconvert_exporter": "python",
   "pygments_lexer": "ipython3",
   "version": "3.13.5"
  }
 },
 "nbformat": 4,
 "nbformat_minor": 5
}
