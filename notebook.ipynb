{
 "cells": [
  {
   "cell_type": "code",
   "execution_count": 1,
   "id": "1fe5ca75",
   "metadata": {},
   "outputs": [],
   "source": [
    "import pandas as pd #used for data manipulation and analysis. It provides data structures like DataFrames.\n",
    "import numpy as np # numerical computations in Python. It provides support for arrays, matrices, and mathematical functions.\n",
    "import matplotlib.pyplot as plt #used for creating static, interactive, and animated visualizations.\n",
    "import seaborn as sns # a statistical data visualization library built on Matplotlib. It provides a high-level interface for drawing attractive graphs.\n",
    "# scikit-learn library, which is a popular tool for machine learning in Python:\n",
    "from sklearn.model_selection import train_test_split #Used to split datasets into training and testing subsets for model evaluation.\n",
    "from sklearn.preprocessing import MinMaxScaler, StandardScaler, OneHotEncoder # A preprocessing tool to standardize features by removing the mean and scaling to unit variance.\n",
    "#Used to convert categorical variables into a one-hot encoded numeric array.\n",
    "from sklearn.impute import SimpleImputer #Used to handle missing values by imputing them (e.g., replacing NaN with mean/median/mode).\n",
    "from sklearn.compose import ColumnTransformer #Applies different transformations to different columns in a dataset (e.g., scaling numerical columns and one-hot encoding categorical columns).\n",
    "from sklearn.pipeline import Pipeline #Chains multiple data processing steps (e.g., imputation, scaling, encoding) into a single object for streamlined workflow."
   ]
  },
  {
   "cell_type": "markdown",
   "id": "175544f8",
   "metadata": {},
   "source": [
    "1. Load the dataset"
   ]
  },
  {
   "cell_type": "code",
   "execution_count": null,
   "id": "6826e0c3",
   "metadata": {},
   "outputs": [],
   "source": [
    "file_path = r\"D:\\ECU\\Data-mining\\Project\\Lung Cancer.csv\"\n",
    "df = pd.read_csv(file_path)"
   ]
  },
  {
   "cell_type": "markdown",
   "id": "b8fc8675",
   "metadata": {},
   "source": [
    "2. Explore the dataset’s features and target variable"
   ]
  },
  {
   "cell_type": "code",
   "execution_count": 29,
   "id": "9d2e3974",
   "metadata": {},
   "outputs": [
    {
     "name": "stdout",
     "output_type": "stream",
     "text": [
      "First 5 rows of the dataset:\n",
      "   id   age  gender      country diagnosis_date cancer_stage family_history  \\\n",
      "0   1  64.0    Male       Sweden     2016-04-05      Stage I            Yes   \n",
      "1   2  50.0  Female  Netherlands     2023-04-20    Stage III            Yes   \n",
      "2   3  65.0  Female      Hungary     2023-04-05    Stage III            Yes   \n",
      "3   4  51.0  Female      Belgium     2016-02-05      Stage I             No   \n",
      "4   5  37.0    Male   Luxembourg     2023-11-29      Stage I             No   \n",
      "\n",
      "   smoking_status   bmi  cholesterol_level  hypertension  asthma  cirrhosis  \\\n",
      "0  Passive Smoker  29.4                199             0       0          1   \n",
      "1  Passive Smoker  41.2                280             1       1          0   \n",
      "2   Former Smoker  44.0                268             1       1          0   \n",
      "3  Passive Smoker  43.0                241             1       1          0   \n",
      "4  Passive Smoker  19.7                178             0       0          0   \n",
      "\n",
      "   other_cancer treatment_type end_treatment_date  survived  \\\n",
      "0             0   Chemotherapy         2017-09-10         0   \n",
      "1             0        Surgery         2024-06-17         1   \n",
      "2             0       Combined         2024-04-09         0   \n",
      "3             0   Chemotherapy         2017-04-23         0   \n",
      "4             0       Combined         2025-01-08         0   \n",
      "\n",
      "   treatment_duration_days  \n",
      "0                      523  \n",
      "1                      424  \n",
      "2                      370  \n",
      "3                      443  \n",
      "4                      406  \n",
      "Understand datatypes and nulls:\n",
      "<class 'pandas.core.frame.DataFrame'>\n",
      "RangeIndex: 890000 entries, 0 to 889999\n",
      "Data columns (total 18 columns):\n",
      " #   Column                   Non-Null Count   Dtype         \n",
      "---  ------                   --------------   -----         \n",
      " 0   id                       890000 non-null  int64         \n",
      " 1   age                      890000 non-null  float64       \n",
      " 2   gender                   890000 non-null  object        \n",
      " 3   country                  890000 non-null  object        \n",
      " 4   diagnosis_date           890000 non-null  datetime64[ns]\n",
      " 5   cancer_stage             890000 non-null  object        \n",
      " 6   family_history           890000 non-null  object        \n",
      " 7   smoking_status           890000 non-null  object        \n",
      " 8   bmi                      890000 non-null  float64       \n",
      " 9   cholesterol_level        890000 non-null  int64         \n",
      " 10  hypertension             890000 non-null  int64         \n",
      " 11  asthma                   890000 non-null  int64         \n",
      " 12  cirrhosis                890000 non-null  int64         \n",
      " 13  other_cancer             890000 non-null  int64         \n",
      " 14  treatment_type           890000 non-null  object        \n",
      " 15  end_treatment_date       890000 non-null  datetime64[ns]\n",
      " 16  survived                 890000 non-null  int64         \n",
      " 17  treatment_duration_days  890000 non-null  int64         \n",
      "dtypes: datetime64[ns](2), float64(2), int64(8), object(6)\n",
      "memory usage: 122.2+ MB\n",
      "None\n",
      "Summary statistics:\n",
      "                  id            age                 diagnosis_date  \\\n",
      "count  890000.000000  890000.000000                         890000   \n",
      "mean   445000.500000      55.007008  2019-06-02 01:22:51.494831616   \n",
      "min         1.000000       4.000000            2014-06-02 00:00:00   \n",
      "25%    222500.750000      48.000000            2016-12-01 00:00:00   \n",
      "50%    445000.500000      55.000000            2019-06-04 00:00:00   \n",
      "75%    667500.250000      62.000000            2021-12-01 00:00:00   \n",
      "max    890000.000000     104.000000            2024-05-30 00:00:00   \n",
      "std    256921.014127       9.994485                            NaN   \n",
      "\n",
      "                 bmi  cholesterol_level   hypertension         asthma  \\\n",
      "count  890000.000000      890000.000000  890000.000000  890000.000000   \n",
      "mean       30.494172         233.633916       0.750024       0.469740   \n",
      "min        16.000000         150.000000       0.000000       0.000000   \n",
      "25%        23.300000         196.000000       1.000000       0.000000   \n",
      "50%        30.500000         242.000000       1.000000       0.000000   \n",
      "75%        37.700000         271.000000       1.000000       1.000000   \n",
      "max        45.000000         300.000000       1.000000       1.000000   \n",
      "std         8.368539          43.432278       0.432999       0.499084   \n",
      "\n",
      "           cirrhosis   other_cancer             end_treatment_date  \\\n",
      "count  890000.000000  890000.000000                         890000   \n",
      "mean        0.225956       0.088157  2020-09-02 03:28:22.953708544   \n",
      "min         0.000000       0.000000            2014-12-02 00:00:00   \n",
      "25%         0.000000       0.000000            2018-03-06 00:00:00   \n",
      "50%         0.000000       0.000000            2020-09-03 00:00:00   \n",
      "75%         0.000000       0.000000            2023-03-03 00:00:00   \n",
      "max         1.000000       1.000000            2026-05-30 00:00:00   \n",
      "std         0.418211       0.283524                            NaN   \n",
      "\n",
      "            survived  treatment_duration_days  \n",
      "count  890000.000000            890000.000000  \n",
      "mean        0.220229               458.087170  \n",
      "min         0.000000               183.000000  \n",
      "25%         0.000000               367.000000  \n",
      "50%         0.000000               458.000000  \n",
      "75%         0.000000               550.000000  \n",
      "max         1.000000               730.000000  \n",
      "std         0.414401               139.326048  \n",
      "Explore the target distribution:\n",
      "survived\n",
      "0    693996\n",
      "1    196004\n",
      "Name: count, dtype: int64\n"
     ]
    }
   ],
   "source": [
    "print(\"First 5 rows of the dataset:\")\n",
    "print(df.head())\n",
    "print(\"Understand datatypes and nulls:\")\n",
    "print(df.info())\n",
    "print(\"Summary statistics:\")\n",
    "print(df.describe())\n",
    "print(\"Explore the target distribution:\")\n",
    "print(df['survived'].value_counts())"
   ]
  },
  {
   "cell_type": "markdown",
   "id": "794bccbf",
   "metadata": {},
   "source": [
    "3. Handle missing values and outliers"
   ]
  },
  {
   "cell_type": "code",
   "execution_count": 30,
   "id": "199a5a09",
   "metadata": {},
   "outputs": [
    {
     "name": "stdout",
     "output_type": "stream",
     "text": [
      "id                         0\n",
      "age                        0\n",
      "gender                     0\n",
      "country                    0\n",
      "diagnosis_date             0\n",
      "cancer_stage               0\n",
      "family_history             0\n",
      "smoking_status             0\n",
      "bmi                        0\n",
      "cholesterol_level          0\n",
      "hypertension               0\n",
      "asthma                     0\n",
      "cirrhosis                  0\n",
      "other_cancer               0\n",
      "treatment_type             0\n",
      "end_treatment_date         0\n",
      "survived                   0\n",
      "treatment_duration_days    0\n",
      "dtype: int64\n"
     ]
    }
   ],
   "source": [
    "print(df.isnull().sum())\n"
   ]
  },
  {
   "cell_type": "code",
   "execution_count": 34,
   "id": "97b9f62c",
   "metadata": {},
   "outputs": [
    {
     "name": "stdout",
     "output_type": "stream",
     "text": [
      "\n",
      "Column: age\n",
      "Number of outliers: 3895\n",
      "Lower bound: 27.00, Upper bound: 83.00\n",
      "         age\n",
      "23      21.0\n",
      "477     85.0\n",
      "576     87.0\n",
      "755     25.0\n",
      "760     90.0\n",
      "...      ...\n",
      "889121  26.0\n",
      "889411  87.0\n",
      "889611  84.0\n",
      "889771  84.0\n",
      "889858  87.0\n",
      "\n",
      "[3895 rows x 1 columns]\n",
      "\n",
      "Column: hypertension\n",
      "Number of outliers: 222479\n",
      "Lower bound: 1.00, Upper bound: 1.00\n",
      "        hypertension\n",
      "0                  0\n",
      "4                  0\n",
      "6                  0\n",
      "8                  0\n",
      "11                 0\n",
      "...              ...\n",
      "889990             0\n",
      "889991             0\n",
      "889994             0\n",
      "889996             0\n",
      "889999             0\n",
      "\n",
      "[222479 rows x 1 columns]\n",
      "\n",
      "Column: cirrhosis\n",
      "Number of outliers: 201101\n",
      "Lower bound: 0.00, Upper bound: 0.00\n",
      "        cirrhosis\n",
      "0               1\n",
      "13              1\n",
      "15              1\n",
      "20              1\n",
      "22              1\n",
      "...           ...\n",
      "889980          1\n",
      "889983          1\n",
      "889984          1\n",
      "889992          1\n",
      "889995          1\n",
      "\n",
      "[201101 rows x 1 columns]\n",
      "\n",
      "Column: other_cancer\n",
      "Number of outliers: 78460\n",
      "Lower bound: 0.00, Upper bound: 0.00\n",
      "        other_cancer\n",
      "9                  1\n",
      "18                 1\n",
      "23                 1\n",
      "25                 1\n",
      "41                 1\n",
      "...              ...\n",
      "889954             1\n",
      "889963             1\n",
      "889966             1\n",
      "889974             1\n",
      "889985             1\n",
      "\n",
      "[78460 rows x 1 columns]\n",
      "\n",
      "Column: survived\n",
      "Number of outliers: 196004\n",
      "Lower bound: 0.00, Upper bound: 0.00\n",
      "        survived\n",
      "1              1\n",
      "6              1\n",
      "10             1\n",
      "21             1\n",
      "27             1\n",
      "...          ...\n",
      "889984         1\n",
      "889986         1\n",
      "889988         1\n",
      "889990         1\n",
      "889997         1\n",
      "\n",
      "[196004 rows x 1 columns]\n"
     ]
    }
   ],
   "source": [
    "# def detect_outliers_iqr(df, column):\n",
    "#     Q1 = df[column].quantile(0.25)\n",
    "#     Q3 = df[column].quantile(0.75)\n",
    "#     IQR = Q3 - Q1\n",
    "#     lower_bound = Q1 - 1.5 * IQR\n",
    "#     upper_bound = Q3 + 1.5 * IQR\n",
    "#     outliers = df[(df[column] < lower_bound) | (df[column] > upper_bound)]\n",
    "#     return outliers\n",
    "\n",
    "# # Example: detect outliers in 'bmi'\n",
    "# bmi_outliers = detect_outliers_iqr(df, 'bmi')\n",
    "# print(\"BMI Outliers:\")\n",
    "# print(bmi_outliers[['id', 'bmi']])\n",
    "\n",
    "\n",
    "def detect_outliers_iqr(df):\n",
    "    numeric_cols = df.select_dtypes(include='number').columns\n",
    "    outlier_summary = {}\n",
    "\n",
    "    for col in numeric_cols:\n",
    "        Q1 = df[col].quantile(0.25)\n",
    "        Q3 = df[col].quantile(0.75)\n",
    "        IQR = Q3 - Q1\n",
    "        lower_bound = Q1 - 1.5 * IQR\n",
    "        upper_bound = Q3 + 1.5 * IQR\n",
    "\n",
    "        outliers = df[(df[col] < lower_bound) | (df[col] > upper_bound)]\n",
    "        outlier_count = outliers.shape[0]\n",
    "\n",
    "        if outlier_count > 0:\n",
    "            outlier_summary[col] = {\n",
    "                'count': outlier_count,\n",
    "                'lower_bound': lower_bound,\n",
    "                'upper_bound': upper_bound,\n",
    "                'outliers': outliers[[col]]\n",
    "            }\n",
    "\n",
    "    return outlier_summary\n",
    "\n",
    "# Run detection\n",
    "outliers_by_column = detect_outliers_iqr(df)\n",
    "\n",
    "# Print summary\n",
    "for col, info in outliers_by_column.items():\n",
    "    print(f\"\\nColumn: {col}\")\n",
    "    print(f\"Number of outliers: {info['count']}\")\n",
    "    print(f\"Lower bound: {info['lower_bound']:.2f}, Upper bound: {info['upper_bound']:.2f}\")\n",
    "    print(info['outliers'])\n"
   ]
  },
  {
   "cell_type": "markdown",
   "id": "f1c0b0ef",
   "metadata": {},
   "source": [
    "Remove Outliers"
   ]
  },
  {
   "cell_type": "code",
   "execution_count": 39,
   "id": "4eedc331",
   "metadata": {},
   "outputs": [
    {
     "name": "stdout",
     "output_type": "stream",
     "text": [
      "    id   age  gender  country diagnosis_date cancer_stage family_history  \\\n",
      "2    3  65.0  Female  Hungary     2023-04-05    Stage III            Yes   \n",
      "3    4  51.0  Female  Belgium     2016-02-05      Stage I             No   \n",
      "5    6  50.0    Male    Italy     2023-01-02      Stage I             No   \n",
      "7    8  51.0    Male  Denmark     2017-02-18     Stage IV            Yes   \n",
      "14  15  67.0  Female   Poland     2023-04-12     Stage II            Yes   \n",
      "\n",
      "    smoking_status   bmi  cholesterol_level  hypertension  asthma  cirrhosis  \\\n",
      "2    Former Smoker  44.0                268             1       1          0   \n",
      "3   Passive Smoker  43.0                241             1       1          0   \n",
      "5     Never Smoked  37.6                274             1       0          0   \n",
      "7    Former Smoker  25.8                195             1       1          0   \n",
      "14   Former Smoker  42.7                259             1       1          0   \n",
      "\n",
      "    other_cancer treatment_type end_treatment_date  survived  \\\n",
      "2              0       Combined         2024-04-09         0   \n",
      "3              0   Chemotherapy         2017-04-23         0   \n",
      "5              0      Radiation         2024-12-27         0   \n",
      "7              0       Combined         2017-08-26         0   \n",
      "14             0      Radiation         2024-02-18         0   \n",
      "\n",
      "    treatment_duration_days  \n",
      "2                       370  \n",
      "3                       443  \n",
      "5                       725  \n",
      "7                       189  \n",
      "14                      312  \n"
     ]
    }
   ],
   "source": [
    "def remove_outliers(df):\n",
    "    numeric_cols = df.select_dtypes(include='number').columns\n",
    "    for col in numeric_cols:\n",
    "        Q1 = df[col].quantile(0.25)\n",
    "        Q3 = df[col].quantile(0.75)\n",
    "        IQR = Q3 - Q1\n",
    "        lower = Q1 - 1.5 * IQR\n",
    "        upper = Q3 + 1.5 * IQR\n",
    "        df = df[(df[col] >= lower) & (df[col] <= upper)]\n",
    "    return df\n",
    "\n",
    "df_no_outliers = remove_outliers(df.copy())\n",
    "print(df_no_outliers.head())"
   ]
  },
  {
   "cell_type": "markdown",
   "id": "ab76de78",
   "metadata": {},
   "source": [
    "4. Perform feature scaling or normalization"
   ]
  },
  {
   "cell_type": "code",
   "execution_count": 43,
   "id": "4af1ad8e",
   "metadata": {},
   "outputs": [
    {
     "name": "stdout",
     "output_type": "stream",
     "text": [
      "                  id            age            bmi  cholesterol_level  \\\n",
      "count  890000.000000  890000.000000  890000.000000      890000.000000   \n",
      "mean        0.500000       0.510070       0.499799           0.557559   \n",
      "std         0.288676       0.099945       0.288570           0.289549   \n",
      "min         0.000000       0.000000       0.000000           0.000000   \n",
      "25%         0.250000       0.440000       0.251724           0.306667   \n",
      "50%         0.500000       0.510000       0.500000           0.613333   \n",
      "75%         0.750000       0.580000       0.748276           0.806667   \n",
      "max         1.000000       1.000000       1.000000           1.000000   \n",
      "\n",
      "        hypertension         asthma      cirrhosis   other_cancer  \\\n",
      "count  890000.000000  890000.000000  890000.000000  890000.000000   \n",
      "mean        0.750024       0.469740       0.225956       0.088157   \n",
      "std         0.432999       0.499084       0.418211       0.283524   \n",
      "min         0.000000       0.000000       0.000000       0.000000   \n",
      "25%         1.000000       0.000000       0.000000       0.000000   \n",
      "50%         1.000000       0.000000       0.000000       0.000000   \n",
      "75%         1.000000       1.000000       0.000000       0.000000   \n",
      "max         1.000000       1.000000       1.000000       1.000000   \n",
      "\n",
      "            survived  treatment_duration_days  \n",
      "count  890000.000000            890000.000000  \n",
      "mean        0.220229                 0.502902  \n",
      "std         0.414401                 0.254709  \n",
      "min         0.000000                 0.000000  \n",
      "25%         0.000000                 0.336380  \n",
      "50%         0.000000                 0.502742  \n",
      "75%         0.000000                 0.670932  \n",
      "max         1.000000                 1.000000  \n"
     ]
    }
   ],
   "source": [
    "numeric_cols = df.select_dtypes(include='number').columns\n",
    "scaler = MinMaxScaler()\n",
    "df_normalized = df.copy()\n",
    "df_normalized[numeric_cols] = scaler.fit_transform(df[numeric_cols])\n",
    "print(df_normalized[numeric_cols].describe())"
   ]
  },
  {
   "cell_type": "markdown",
   "id": "1be57de0",
   "metadata": {},
   "source": [
    "5. Split the dataset into training and testing sets"
   ]
  },
  {
   "cell_type": "code",
   "execution_count": null,
   "id": "e5e72a2b",
   "metadata": {},
   "outputs": [],
   "source": [
    "# 2. Define features (X) and target (y)\n",
    "X = df.drop('survived', axis=1)  # All columns except 'survived'\n",
    "y = df['survived']               # The target column\n",
    "\n",
    "# 3. Encode categorical features\n",
    "# X = pd.get_dummies(X, drop_first=True)\n",
    "\n",
    "X_train, X_test, y_train, y_test = train_test_split(\n",
    "    X, y,\n",
    "    test_size=0.2,        # 20% for testing, 80% for training\n",
    "    random_state=42,      # Ensures reproducibility\n",
    "    stratify=y            # Keeps class distribution balanced (important for classification)\n",
    ")\n",
    "print(\"Training set:\", X_train.shape)\n",
    "print(\"Testing set:\", X_test.shape)\n"
   ]
  },
  {
   "cell_type": "code",
   "execution_count": 45,
   "id": "3fed802f",
   "metadata": {},
   "outputs": [
    {
     "name": "stdout",
     "output_type": "stream",
     "text": [
      "   id diagnosis_date end_treatment_date  treatment_duration_days\n",
      "0   1     2016-04-05         2017-09-10                      523\n",
      "1   2     2023-04-20         2024-06-17                      424\n",
      "2   3     2023-04-05         2024-04-09                      370\n",
      "3   4     2016-02-05         2017-04-23                      443\n",
      "4   5     2023-11-29         2025-01-08                      406\n"
     ]
    }
   ],
   "source": [
    "#  engineer a new column that calculates how long the patient was under treatment:\n",
    "df['diagnosis_date'] = pd.to_datetime(df['diagnosis_date'])\n",
    "df['end_treatment_date'] = pd.to_datetime(df['end_treatment_date'])\n",
    "\n",
    "df['treatment_duration_days'] = (df['end_treatment_date'] - df['diagnosis_date']).dt.days\n",
    "\n",
    "print(df[['id', 'diagnosis_date', 'end_treatment_date', 'treatment_duration_days']].head())"
   ]
  },
  {
   "cell_type": "code",
   "execution_count": 46,
   "id": "1761cef9",
   "metadata": {},
   "outputs": [
    {
     "data": {
      "image/png": "[encoded data removed]",
      "text/plain": [
       "<Figure size 800x500 with 1 Axes>"
      ]
     },
     "metadata": {},
     "output_type": "display_data"
    }
   ],
   "source": [
    "plt.figure(figsize=(8, 5))\n",
    "sns.histplot(df['treatment_duration_days'].dropna(), bins=30, kde=True, color=\"skyblue\")\n",
    "plt.title(\"Distribution of Treatment Duration (Days)\")\n",
    "plt.xlabel(\"Treatment Duration (Days)\")\n",
    "plt.ylabel(\"Number of Patients\")\n",
    "plt.grid(True)\n",
    "plt.show()"
   ]
  },
  {
   "cell_type": "code",
   "execution_count": 47,
   "id": "297faf61",
   "metadata": {},
   "outputs": [
    {
     "data": {
      "image/png": "[encoded data removed]",
      "text/plain": [
       "<Figure size 600x400 with 1 Axes>"
      ]
     },
     "metadata": {},
     "output_type": "display_data"
    }
   ],
   "source": [
    "plt.figure(figsize=(6, 4))\n",
    "sns.boxplot(x=df['treatment_duration_days'], color=\"lightcoral\")\n",
    "plt.title(\"Boxplot of Treatment Duration\")\n",
    "plt.xlabel(\"Treatment Duration (Days)\")\n",
    "plt.grid(True)\n",
    "plt.show()\n"
   ]
  }
 ],
 "metadata": {
  "kernelspec": {
   "display_name": "Python 3",
   "language": "python",
   "name": "python3"
  },
  "language_info": {
   "codemirror_mode": {
    "name": "ipython",
    "version": 3
   },
   "file_extension": ".py",
   "mimetype": "text/x-python",
   "name": "python",
   "nbconvert_exporter": "python",
   "pygments_lexer": "ipython3",
   "version": "3.13.5"
  }
 },
 "nbformat": 4,
 "nbformat_minor": 5
}
